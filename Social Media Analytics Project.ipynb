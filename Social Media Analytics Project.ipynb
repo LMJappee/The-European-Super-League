{
 "cells": [
  {
   "cell_type": "markdown",
   "metadata": {},
   "source": [
    "# SOCIAL MEDIA ANALYTICS PROJECT"
   ]
  },
  {
   "cell_type": "markdown",
   "metadata": {},
   "source": [
    "Social Media Analytics for Business Intelligence - DAT-9731 - BOS1 - Prof. Beau Giannini & Prof. Pavel Paramonov\n",
    "<br>\n",
    "July 29th, 2021"
   ]
  },
  {
   "cell_type": "markdown",
   "metadata": {},
   "source": [
    "LARS MARIUS STRØMBERG JAPPEE - ID: 10874606"
   ]
  },
  {
   "cell_type": "markdown",
   "metadata": {},
   "source": [
    "## The European Super League"
   ]
  },
  {
   "cell_type": "markdown",
   "metadata": {},
   "source": [
    "This analysis is about the current twitter climate for the European Super League, a new format soccer league for the best and most popular clubs in soccer. Looking at what the Super League can focus on to build a better campaign for an eventual relaunch."
   ]
  },
  {
   "cell_type": "markdown",
   "metadata": {},
   "source": [
    "The PR battle that followed the announcement of the European super league, will be a text book case in a few years. The mightiest most popular brands in sports were taken down by a social media and media campaign within two days. The whole battle was over before we managed to learn what the majority actually wanted. Now almost half a year later we can look at the sentiments of people now that the initial storm has calmed."
   ]
  },
  {
   "cell_type": "code",
   "execution_count": 9,
   "metadata": {},
   "outputs": [],
   "source": [
    "import json\n",
    "import tweepy as tw"
   ]
  },
  {
   "cell_type": "code",
   "execution_count": 11,
   "metadata": {},
   "outputs": [],
   "source": [
    "import config_twitter"
   ]
  },
  {
   "cell_type": "code",
   "execution_count": 12,
   "metadata": {},
   "outputs": [
    {
     "name": "stdout",
     "output_type": "stream",
     "text": [
      "Connected to Twitter API as Lars.M.S.Jappée\n"
     ]
    }
   ],
   "source": [
    "# function to establish an initial API connection, respecting the rate limit\n",
    "def connect_api_client():\n",
    "    auth = tw.OAuthHandler(config_twitter.consumer_key, config_twitter.consumer_secret)\n",
    "    auth.set_access_token(config_twitter.access_token, config_twitter.access_token_secret)\n",
    "    api = tw.API(auth, wait_on_rate_limit=True)\n",
    "    try:\n",
    "        # returns False if credentials could not be verified\n",
    "        api.verify_credentials()\n",
    "        user = api.verify_credentials()\n",
    "        if not user:\n",
    "            raise(\"Credentials could not be verified: Please check config.py\")\n",
    "        print(f\"Connected to Twitter API as {user.name}\")\n",
    "    except Exception as e:\n",
    "        raise e\n",
    "    return api\n",
    "\n",
    "api = connect_api_client()\n",
    "\n",
    "# construct a search query\n",
    "query = '\"european super league\" OR \"the super league\" -filter:retweets'\n",
    " \n",
    "# decide how many tweets to query\n",
    "ntweets = 2000\n",
    "\n",
    "# search and collect relevant tweets\n",
    "tweets = [tweet._json for tweet in tw.Cursor(api.search, q=query, lang=\"en\", tweet_mode='extended').items(ntweets)]\n",
    "\n",
    "# save tweets data to json file\n",
    "file_out = f\"raw_tweet_data_{ntweets}.json\"\n",
    "with open(file_out, mode='w') as f:\n",
    "    f.write(json.dumps(tweets, indent=2))"
   ]
  },
  {
   "cell_type": "code",
   "execution_count": 13,
   "metadata": {},
   "outputs": [
    {
     "data": {
      "text/plain": [
       "2000"
      ]
     },
     "execution_count": 13,
     "metadata": {},
     "output_type": "execute_result"
    }
   ],
   "source": [
    "# Check number of tweets in dataset.\n",
    "len(tweets)"
   ]
  },
  {
   "cell_type": "code",
   "execution_count": 14,
   "metadata": {},
   "outputs": [
    {
     "data": {
      "text/plain": [
       "{'created_at': 'Fri Jul 30 19:45:52 +0000 2021',\n",
       " 'id': 1421195358122610688,\n",
       " 'id_str': '1421195358122610688',\n",
       " 'full_text': '@ReshadRahman_ Is the Super League going to be an open league governed by merit or is it goijg to be a closed league? If it is open- dope, if not, just NO.',\n",
       " 'truncated': False,\n",
       " 'display_text_range': [15, 155],\n",
       " 'entities': {'hashtags': [],\n",
       "  'symbols': [],\n",
       "  'user_mentions': [{'screen_name': 'ReshadRahman_',\n",
       "    'name': 'Reshad Rahman',\n",
       "    'id': 1064455718445740032,\n",
       "    'id_str': '1064455718445740032',\n",
       "    'indices': [0, 14]}],\n",
       "  'urls': []},\n",
       " 'metadata': {'iso_language_code': 'en', 'result_type': 'recent'},\n",
       " 'source': '<a href=\"http://twitter.com/download/android\" rel=\"nofollow\">Twitter for Android</a>',\n",
       " 'in_reply_to_status_id': 1421133714357166080,\n",
       " 'in_reply_to_status_id_str': '1421133714357166080',\n",
       " 'in_reply_to_user_id': 1064455718445740032,\n",
       " 'in_reply_to_user_id_str': '1064455718445740032',\n",
       " 'in_reply_to_screen_name': 'ReshadRahman_',\n",
       " 'user': {'id': 1383896595595288580,\n",
       "  'id_str': '1383896595595288580',\n",
       "  'name': 'Harkrish Ahuja',\n",
       "  'screen_name': 'TheHA97766643',\n",
       "  'location': '',\n",
       "  'description': 'Hey! lol.\\nI write about things I like.\\nAvid reader of science.\\nMy blog : https://t.co/BzA378vzXj',\n",
       "  'url': None,\n",
       "  'entities': {'description': {'urls': [{'url': 'https://t.co/BzA378vzXj',\n",
       "      'expanded_url': 'https://whatithinkinmyopinion.blogspot.com',\n",
       "      'display_url': 'whatithinkinmyopinion.blogspot.com',\n",
       "      'indices': [73, 96]}]}},\n",
       "  'protected': False,\n",
       "  'followers_count': 10,\n",
       "  'friends_count': 9,\n",
       "  'listed_count': 0,\n",
       "  'created_at': 'Sun Apr 18 21:34:03 +0000 2021',\n",
       "  'favourites_count': 7486,\n",
       "  'utc_offset': None,\n",
       "  'time_zone': None,\n",
       "  'geo_enabled': True,\n",
       "  'verified': False,\n",
       "  'statuses_count': 1439,\n",
       "  'lang': None,\n",
       "  'contributors_enabled': False,\n",
       "  'is_translator': False,\n",
       "  'is_translation_enabled': False,\n",
       "  'profile_background_color': 'F5F8FA',\n",
       "  'profile_background_image_url': None,\n",
       "  'profile_background_image_url_https': None,\n",
       "  'profile_background_tile': False,\n",
       "  'profile_image_url': 'http://pbs.twimg.com/profile_images/1409964375889170432/7rR-JkSe_normal.jpg',\n",
       "  'profile_image_url_https': 'https://pbs.twimg.com/profile_images/1409964375889170432/7rR-JkSe_normal.jpg',\n",
       "  'profile_banner_url': 'https://pbs.twimg.com/profile_banners/1383896595595288580/1624996680',\n",
       "  'profile_link_color': '1DA1F2',\n",
       "  'profile_sidebar_border_color': 'C0DEED',\n",
       "  'profile_sidebar_fill_color': 'DDEEF6',\n",
       "  'profile_text_color': '333333',\n",
       "  'profile_use_background_image': True,\n",
       "  'has_extended_profile': True,\n",
       "  'default_profile': True,\n",
       "  'default_profile_image': False,\n",
       "  'following': False,\n",
       "  'follow_request_sent': False,\n",
       "  'notifications': False,\n",
       "  'translator_type': 'none',\n",
       "  'withheld_in_countries': []},\n",
       " 'geo': None,\n",
       " 'coordinates': None,\n",
       " 'place': None,\n",
       " 'contributors': None,\n",
       " 'is_quote_status': False,\n",
       " 'retweet_count': 0,\n",
       " 'favorite_count': 0,\n",
       " 'favorited': False,\n",
       " 'retweeted': False,\n",
       " 'lang': 'en'}"
      ]
     },
     "execution_count": 14,
     "metadata": {},
     "output_type": "execute_result"
    }
   ],
   "source": [
    "# Check random tweets to quality controll content(will run several, only one showing here).\n",
    "tweets[7]"
   ]
  },
  {
   "cell_type": "markdown",
   "metadata": {},
   "source": [
    "Tweets are relevant to the sentiments people display towards the European Super League."
   ]
  },
  {
   "cell_type": "code",
   "execution_count": 48,
   "metadata": {},
   "outputs": [
    {
     "data": {
      "text/plain": [
       "'@ReshadRahman_ Is the Super League going to be an open league governed by merit or is it goijg to be a closed league? If it is open- dope, if not, just NO.'"
      ]
     },
     "execution_count": 48,
     "metadata": {},
     "output_type": "execute_result"
    }
   ],
   "source": [
    "tweets[7]['full_text']"
   ]
  },
  {
   "cell_type": "code",
   "execution_count": 15,
   "metadata": {},
   "outputs": [],
   "source": [
    "import html\n",
    "import string\n",
    "import re\n",
    "from nltk import word_tokenize\n",
    "from nltk.corpus import stopwords\n",
    "from textblob import TextBlob\n",
    "from wordcloud import WordCloud\n",
    "import pandas as pd\n",
    "import matplotlib.pyplot as plt"
   ]
  },
  {
   "cell_type": "code",
   "execution_count": 16,
   "metadata": {},
   "outputs": [],
   "source": [
    "fjson = 'raw_tweet_data_2000.json'\n",
    "\n",
    "with open(fjson) as file:\n",
    "    data = json.load(file)\n",
    "\n",
    "df_tweets = pd.DataFrame([t['full_text'] for t in data], columns=['text'])\n",
    "\n",
    "df_tweets['retweets'] = [t['retweet_count'] for t in data]\n",
    "df_tweets['favorites'] = [t['favorite_count'] for t in data]\n",
    "df_tweets['user'] = [t['user']['screen_name'] for t in data]\n",
    "\n",
    "stop_words = set(stopwords.words('english'))\n",
    "\n",
    "def text_cleanup(s):\n",
    "    s_unesc = html.unescape(re.sub(r\"http\\S+\", \"\", re.sub('\\n+', ' ', s)))\n",
    "    s_noemoji = s_unesc.encode('ascii', 'ignore').decode('ascii')\n",
    "    # normalize to lowercase and tokenize\n",
    "    wt = word_tokenize(s_noemoji.lower())\n",
    "    # filter word-tokens\n",
    "    wt_filt = [w for w in wt if (w not in stop_words) and (w not in string.punctuation) and (w.isalnum())]\n",
    "    # return clean string\n",
    "    return ' '.join(wt_filt)\n",
    "\n",
    "df_tweets['text_clean'] = df_tweets['text'].apply(text_cleanup)\n",
    "\n",
    "def sentim_polarity(s):\n",
    "    return TextBlob(s).sentiment.polarity\n",
    "\n",
    "def sentim_subject(s):\n",
    "    return TextBlob(s).sentiment.subjectivity\n",
    "\n",
    "df_tweets['polarity'] = df_tweets['text_clean'].apply(sentim_polarity)\n",
    "df_tweets['subjectivity'] = df_tweets['text_clean'].apply(sentim_subject)"
   ]
  },
  {
   "cell_type": "markdown",
   "metadata": {},
   "source": [
    "## Competitive Stake Holders"
   ]
  },
  {
   "cell_type": "code",
   "execution_count": 17,
   "metadata": {},
   "outputs": [
    {
     "name": "stdout",
     "output_type": "stream",
     "text": [
      "Competitive Stake Holders\n",
      "      stake_holders  average_sentiment\n",
      "0              uefa           0.162458\n",
      "1              fifa          -0.016177\n",
      "2  champions league           0.215044\n",
      "3      super league           0.186752\n",
      "4    premier league           0.184950\n",
      "5           la liga           0.189670\n"
     ]
    }
   ],
   "source": [
    "stake_holders = ['uefa', 'fifa', 'champions league', 'super league', 'premier league', 'la liga']\n",
    "\n",
    "df_stake_holders = pd.DataFrame(stake_holders, columns=['stake_holders'])\n",
    "\n",
    "def party_sentiment(b):\n",
    "    return df_tweets[df_tweets['text_clean'].str.contains(b)]['polarity'].mean()\n",
    "\n",
    "df_stake_holders['average_sentiment'] = df_stake_holders['stake_holders'].apply(party_sentiment)\n",
    "\n",
    "print(\"Competitive Stake Holders\")\n",
    "print(df_stake_holders)"
   ]
  },
  {
   "cell_type": "markdown",
   "metadata": {},
   "source": [
    "Looking at the average sentiment for the different stakeholders Surrounding the super league we can see that FIFA holds a generally negative sentiments, mostly related to corruption. The sentiments towards the super league is about the same as the premier league or La Liga when people discuss the three. The data is somewhat shaped by the fact that the query is for tweets about the super league.\n",
    "<br>\n",
    "<br>\n",
    "The super league has it biggest competition from the champions league, as the competition it is looking to replace. While the adversary in a public PR campaign will be UEFA, with support from La Liga and the Premier League."
   ]
  },
  {
   "cell_type": "markdown",
   "metadata": {},
   "source": [
    "### Key Figures"
   ]
  },
  {
   "cell_type": "markdown",
   "metadata": {},
   "source": [
    "The key figure heads in this PR war is:\n",
    "<br>\n",
    "Florentino Perez - President of Real Madrid and the Super League, referred to as \"perez\".\n",
    "<br>\n",
    "Andrea Agnelli - President of Juventus and Vice-chairman of the Super League, referred to as \"agnelli\".\n",
    "<br>\n",
    "Aleksander Čeferin - President of UEFA, referred to as \"ceferin\".\n",
    "<br>\n",
    "Joel Glazer - Co-chairman of Manchester United and vice-chairman of the Super League, referred to as \"Glazer\".\n",
    "<br>\n",
    "Bayern Muchen - German Football club vocal against the formation of the Super League, referred to as \"bayern\".\n",
    "<br>\n",
    "Javier Tebas - President of the Spanish football league(La Liga), referred to as \"tebas\"."
   ]
  },
  {
   "cell_type": "code",
   "execution_count": 25,
   "metadata": {},
   "outputs": [
    {
     "name": "stdout",
     "output_type": "stream",
     "text": [
      "Key Figures\n",
      "  key_figures  average_sentiment\n",
      "0       perez           0.174635\n",
      "1     agnelli           0.020370\n",
      "2     ceferin           0.246296\n",
      "3      glazer           0.128185\n",
      "4      bayern           0.159593\n",
      "5       tebas           0.027054\n"
     ]
    }
   ],
   "source": [
    "key_figures = ['perez', 'agnelli', 'ceferin', 'glazer', 'bayern', 'tebas']\n",
    "\n",
    "df_key_figures = pd.DataFrame(key_figures, columns=['key_figures'])\n",
    "\n",
    "df_key_figures['average_sentiment'] = df_key_figures['key_figures'].apply(party_sentiment)\n",
    "\n",
    "print(\"Key Figures\")\n",
    "print(df_key_figures)"
   ]
  },
  {
   "cell_type": "markdown",
   "metadata": {},
   "source": [
    "Ceferin has used this situation to attempt to strengthen his position in European soccer, building a stronger image for himself than previously. The UEFA president campaigned to stop the corruption UEFA is known for, but has so far allegedly fallen into the same flaws (Melnæs & Ødegård, 2017). His positive sentiment when mentioned in relation to the super league shows he has found something to strengthen his image.\n",
    "<br>\n",
    "<br>\n",
    "Perez holds a positive sentiment among fans of the super league concept, he is the calm figurehead that is winning the legal battles following the initial loss in the PR sphere. This is increasing his image, and can perhaps help reinvigorate the Super League(Reuters, 2021)."
   ]
  },
  {
   "cell_type": "markdown",
   "metadata": {},
   "source": [
    "### Key Influencers"
   ]
  },
  {
   "cell_type": "markdown",
   "metadata": {},
   "source": [
    "Several prominent soccer figures went out against the super league. These helped ignite the sparks that led to protest and online campaign against the Super League. Also some reportedly neutral twitter accounts spread news and leaks surrounding the Super League.\n",
    "<br>\n",
    "<br>\n",
    "Looking at two:\n",
    "<br>\n",
    "Swiss Ramble - A twitter account dedicated to financial information, referred to as \"swissramble\".\n",
    "<br>\n",
    "Gary Neville - Former Manchester United player and current pundit, referred to as \"neville\"."
   ]
  },
  {
   "cell_type": "code",
   "execution_count": 50,
   "metadata": {},
   "outputs": [
    {
     "name": "stdout",
     "output_type": "stream",
     "text": [
      "Key Influencers\n",
      "  key_influencers  average_sentiment\n",
      "0     swissramble           0.220833\n",
      "1         neville           0.197333\n",
      "2         lineker           0.166667\n"
     ]
    }
   ],
   "source": [
    "key_influencers = ['swissramble', 'neville', 'lineker']\n",
    "\n",
    "df_key_influencers = pd.DataFrame(key_influencers, columns=['key_influencers'])\n",
    "\n",
    "df_key_influencers['average_sentiment'] = df_key_influencers['key_influencers'].apply(party_sentiment)\n",
    "\n",
    "print(\"Key Influencers\")\n",
    "print(df_key_influencers)"
   ]
  },
  {
   "cell_type": "markdown",
   "metadata": {},
   "source": [
    "Looking at two of the most vocal we can see that twitter fans are reacting positively to tweets including financial information. Swissramble has included key financial figures for the clubs, both in terms of potential income, but also their current situation. The two clubs with the highest social media following in the world is currently in financial distress due to covid and other poor financial decisions (Jahns, 2021). The Super League would alleviate or remove those issues."
   ]
  },
  {
   "cell_type": "markdown",
   "metadata": {},
   "source": [
    "## Tweet Content Analysis"
   ]
  },
  {
   "cell_type": "markdown",
   "metadata": {},
   "source": [
    "Understanding the major positive for the Super League and the major negative sentiments against will help in current and future media campaigns for the Super League."
   ]
  },
  {
   "cell_type": "code",
   "execution_count": 65,
   "metadata": {},
   "outputs": [
    {
     "name": "stdout",
     "output_type": "stream",
     "text": [
      "Highest:\n",
      "                                                   text  retweets  favorites  \\\n",
      "1187  Maxim Uchaykin-Head coach of Zenit Seniors 202...         0          2   \n",
      "1683  Chelsea opened talks with Kounde and are now a...         0          1   \n",
      "1581  4 times Champions League Winner takes the No. ...         0          1   \n",
      "1930  @Varneyshairline @LUFCbot Their owners don’t h...         0          0   \n",
      "1457  @cforster26 @MikeGrady04 Probably best to unde...         0          0   \n",
      "781   @iFooty77 What? The super league will be the b...         0          0   \n",
      "1494  @utdreport The Super League's turned out to be...         0         10   \n",
      "1512  @Jimmic29 I know mate I know. I try and put my...         0          1   \n",
      "813   they sold their best cbs and haven‘t made sign...         0          3   \n",
      "1852  Ed Woodard resigns and we have a great transfe...         0          0   \n",
      "\n",
      "                 user                                         text_clean  \\\n",
      "1187        DomenVial  maxim coach zenit seniors 2021 best coach supe...   \n",
      "1683  realmadridideas  chelsea opened talks kounde sign premier leagu...   \n",
      "1581         murshedz  4 times champions league winner takes 4 shirt ...   \n",
      "1930      TimHoolahan  varneyshairline lufcbot owners dont best inter...   \n",
      "1457       Grow_Rugby  cforster26 mikegrady04 probably best understan...   \n",
      "781         marlopunk  ifooty77 super league best thing happen footba...   \n",
      "1494       AlfieVille  utdreport super league turned best thing happe...   \n",
      "1512      Powelly1985  jimmic29 know mate know try put shoes id fumin...   \n",
      "813          pieeperr  sold best cbs havent made signing besides alab...   \n",
      "1852     LechALection  ed woodard resigns great transfer window hail ...   \n",
      "\n",
      "      polarity  subjectivity  \n",
      "1187  0.777778      0.422222  \n",
      "1683  0.777778      0.422222  \n",
      "1581  0.758333      0.566667  \n",
      "1930  0.666667      0.483333  \n",
      "1457  0.666667      0.483333  \n",
      "781   0.666667      0.483333  \n",
      "1494  0.666667      0.483333  \n",
      "1512  0.666667      0.483333  \n",
      "813   0.666667      0.483333  \n",
      "1852  0.644444      0.705556  \n",
      "\n",
      "Lowest:\n",
      "                                                   text  retweets  favorites  \\\n",
      "1685  I hate this crap. Hate it with a passion. \\n\\n...         0          1   \n",
      "1772  These stupid pundits annoy the hell out of me ...         0          0   \n",
      "363   Football the Industry! \\nThis could be a landm...         3         10   \n",
      "1883  The masterplan was the Super League and he fai...         0          3   \n",
      "1528  @Oly_Gav They’re the worst. Even though they h...         0          1   \n",
      "1890  The rights deal is irrelevant, at the end of t...         0          1   \n",
      "135   @JUSTIN_AVFC_ That long! Already looking grim ...         0          0   \n",
      "1031       @GrandpaBeer It's the Super League.   Boring         0          0   \n",
      "101   @SJohnsonSport Uefa made y'all believe that th...         0          2   \n",
      "841   I hope the Super League starts asap, football ...         0          2   \n",
      "\n",
      "              user                                         text_clean  \\\n",
      "1685  robmooreavfc  hate crap hate passion remember outrage league...   \n",
      "1772     Khulaniii  stupid pundits annoy hell stupid rhetoric woul...   \n",
      "363        AshabaA  football industry could landmark shake foundat...   \n",
      "1883   CFCLosBlues           masterplan super league failed miserably   \n",
      "1528     tdotonian  theyre worst even though irrelevant years some...   \n",
      "1890  Kwamzfinesse  rights deal irrelevant end day bbc ioc fumbled...   \n",
      "135     Def68Villa  long already looking grim media driving intere...   \n",
      "1031        RobG64                    grandpabeer super league boring   \n",
      "101      DanLaden7  sjohnsonsport uefa made believe pioneers super...   \n",
      "841   barca__fan__      hope super league starts asap football boring   \n",
      "\n",
      "      polarity  subjectivity  \n",
      "1685 -0.600000      0.837500  \n",
      "1772 -0.422222      0.888889  \n",
      "363  -0.400000      0.400000  \n",
      "1883 -0.388889      0.655556  \n",
      "1528 -0.388889      0.888889  \n",
      "1890 -0.364583      0.802083  \n",
      "135  -0.357738      0.730952  \n",
      "1031 -0.333333      0.833333  \n",
      "101  -0.333333      0.833333  \n",
      "841  -0.333333      0.833333  \n"
     ]
    }
   ],
   "source": [
    "# Some examples of tweet content with the highest and the lowest sentiment values.\n",
    "print(\"Highest:\")\n",
    "print(df_tweets.sort_values(by='polarity', ascending=False).head(10))\n",
    "print(\"\")\n",
    "print(\"Lowest:\")\n",
    "print(df_tweets.sort_values(by='polarity').head(10))"
   ]
  },
  {
   "cell_type": "markdown",
   "metadata": {},
   "source": [
    "We can see that while some of the positive tweets are about how the clubs have fared after the initial launch and failure. Clearly some people are expecting it to be a positive revolution:"
   ]
  },
  {
   "cell_type": "code",
   "execution_count": 77,
   "metadata": {},
   "outputs": [
    {
     "data": {
      "text/plain": [
       "'@iFooty77 What? The super league will be the best thing to happen to football and usmanov and David dein would be all for it aswell'"
      ]
     },
     "execution_count": 77,
     "metadata": {},
     "output_type": "execute_result"
    }
   ],
   "source": [
    "tweets[781]['full_text']"
   ]
  },
  {
   "cell_type": "markdown",
   "metadata": {},
   "source": [
    "The interesting point here is also how some negative sentiments are actually about UEFA and not the Super League, highlighting how UEFA managed their PR campaign successfully. And for a rare occasion UEFA managed to take the moral high ground(Melnæs & Ødegård, 2017). This moral high ground might be at a risk with the legal battles and perhaps a better campaign from the Super League to highlight UEFA warehouses of skeletons (Reuters, 2021)."
   ]
  },
  {
   "cell_type": "code",
   "execution_count": 69,
   "metadata": {},
   "outputs": [
    {
     "data": {
      "text/plain": [
       "\"@SJohnsonSport Uefa made y'all believe that the pioneers of the Super League were evil lmfao\""
      ]
     },
     "execution_count": 69,
     "metadata": {},
     "output_type": "execute_result"
    }
   ],
   "source": [
    "tweets[101]['full_text']"
   ]
  },
  {
   "cell_type": "code",
   "execution_count": 78,
   "metadata": {},
   "outputs": [
    {
     "name": "stdout",
     "output_type": "stream",
     "text": [
      "Most retweeted content\n",
      "                                                   text  retweets  favorites  \\\n",
      "287   Barcelona, Juventus and Real Madrid have vowed...       535       3274   \n",
      "807   [PRESS RELEASE]\\n\\nℹ Statement on the European...       334       3069   \n",
      "803   🚨| The Super League is very much still alive. ...        86       1456   \n",
      "786   Juve, Barca and Real Madrid still won't let th...        74        820   \n",
      "835   🚨Super League Statement: “We will not be subje...        59        488   \n",
      "774   Whatever your opinion on the Super League is, ...        56        298   \n",
      "610   A court has ruled UEFA must remove penalties (...        50        567   \n",
      "811   🚨 Joint statement from Real Madrid, Barcelona ...        45        240   \n",
      "1617  Still wondering where the punishment is for th...        39        840   \n",
      "657   🚨| Super League statement: \"The Super League w...        39        429   \n",
      "225   Barcelona, Juventus &amp; Real Madrid took UEF...        39         94   \n",
      "824   🚨| “Real Madrid, Barcelona and Juventus expres...        37        464   \n",
      "840   Statement by Juve, Real Madrid &amp; Barcelona...        32        130   \n",
      "299   Still trying to make the Super League happen? ...        32        359   \n",
      "482   Official: FC Barcelona, Juventus and Real Madr...        32        575   \n",
      "641   🚨| Super League statement: \"Our aim is to keep...        31        462   \n",
      "738   “Our aim is to keep developing the Super Leagu...        31        275   \n",
      "1484  Florentino Pérez saw how much money the Englis...        29        139   \n",
      "654   The Super League is a good idea and will revol...        28        213   \n",
      "469   BREAKING Real Madrid, Barcelona and Juventus t...        24         77   \n",
      "\n",
      "                 user                                         text_clean  \\\n",
      "287     SkySportsNews  barcelona juventus real madrid vowed carry pla...   \n",
      "807       FCBarcelona  press release statement european super league ...   \n",
      "803        MadridXtra  super league much still alive real madrid barc...   \n",
      "786       FootyAccums  juve barca real madrid still wo let super leag...   \n",
      "835       EduardoHagn  super league statement subjected constant thre...   \n",
      "774    FinallyMaeglas                 whatever opinion super league spot   \n",
      "610   jonathandveal83  court ruled uefa must remove penalties approx ...   \n",
      "811          MilanEye  joint statement real madrid barcelona juventus...   \n",
      "1617         TyBracey  still wondering punishment teams super league ...   \n",
      "657     theMadridZone  super league statement super league welcomes t...   \n",
      "225       Engr_Series  barcelona juventus real madrid took uefa court...   \n",
      "824        MadridXtra  real madrid barcelona juventus express satisfa...   \n",
      "840      juvefcdotcom  statement juve real madrid barcelona regarding...   \n",
      "299        Ankaman616   still trying make super league happen broke bois   \n",
      "482       barcacentre  official fc barcelona juventus real madrid cf ...   \n",
      "641     theMadridZone  super league statement aim keep developing sup...   \n",
      "738       henrywinter  aim keep developing super league project const...   \n",
      "1484  Nigerianscamsss  florentino prez saw much money english footbal...   \n",
      "654      honest_pepsi  super league good idea revolutionize football ...   \n",
      "469    MirrorFootball  breaking real madrid barcelona juventus pursue...   \n",
      "\n",
      "      polarity  subjectivity  \n",
      "287   0.286667      0.543333  \n",
      "807   0.166667      0.333333  \n",
      "803   0.208333      0.391667  \n",
      "786   0.266667      0.483333  \n",
      "835   0.194444      0.461111  \n",
      "774   0.333333      0.666667  \n",
      "610   0.237500      0.366667  \n",
      "811   0.266667      0.483333  \n",
      "1617  0.466667      0.783333  \n",
      "657   0.250000      0.500000  \n",
      "225   0.177778      0.322222  \n",
      "824   0.266667      0.483333  \n",
      "840   0.266667      0.483333  \n",
      "299   0.333333      0.666667  \n",
      "482   0.226667      0.413333  \n",
      "641   0.305556      0.527778  \n",
      "738   0.166667      0.333333  \n",
      "1484  0.177778      0.288889  \n",
      "654   0.223333      0.466667  \n",
      "469   0.177778      0.322222  \n"
     ]
    }
   ],
   "source": [
    "# Examples of the most retweeted content.\n",
    "print(\"Most retweeted content\")\n",
    "print(df_tweets.sort_values(by='retweets', ascending=False).head(20))"
   ]
  },
  {
   "cell_type": "markdown",
   "metadata": {},
   "source": [
    "The Super League is still alive, as we can see that the recent positive information regarding their legal battle is trending. We can also see that mostly positive news about the future or existing view of the super league is popular.\n",
    "<br>\n",
    "<br>\n",
    "Also links towards the original statement behind the creation of the super league is still \"trending as shown by this tweet linking to a key part in the statement. These points should be addressed further, and be an important part of the message going forward."
   ]
  },
  {
   "cell_type": "code",
   "execution_count": 80,
   "metadata": {},
   "outputs": [
    {
     "data": {
      "text/plain": [
       "'Whatever your opinion on the Super League is, this is spot on. https://t.co/f8TCehD2mE'"
      ]
     },
     "execution_count": 80,
     "metadata": {},
     "output_type": "execute_result"
    }
   ],
   "source": [
    "tweets[774]['full_text']"
   ]
  },
  {
   "cell_type": "markdown",
   "metadata": {},
   "source": [
    "Text in tweet link:\n",
    "<br>\n",
    "\"We have the duty to address the very serious issues facing football: UEFA has established itself as the sole regulator, exclusive operator, and unique owner of rights of European football competitions. This monopolistic position, in conflict of interest, is damaging football and its competitive balance. As shown by ample evidence, financial controls are inadequate, and they have been improperly enforced. Clubs participating in European competitions have the right to govern their own competitions.\"(Marsden & Llorens 2021)."
   ]
  },
  {
   "cell_type": "code",
   "execution_count": 83,
   "metadata": {},
   "outputs": [
    {
     "name": "stdout",
     "output_type": "stream",
     "text": [
      "Users producing the most retweeted content\n",
      "287       SkySportsNews\n",
      "807         FCBarcelona\n",
      "803          MadridXtra\n",
      "786         FootyAccums\n",
      "835         EduardoHagn\n",
      "774      FinallyMaeglas\n",
      "610     jonathandveal83\n",
      "811            MilanEye\n",
      "1617           TyBracey\n",
      "657       theMadridZone\n",
      "225         Engr_Series\n",
      "824          MadridXtra\n",
      "840        juvefcdotcom\n",
      "299          Ankaman616\n",
      "482         barcacentre\n",
      "641       theMadridZone\n",
      "738         henrywinter\n",
      "1484    Nigerianscamsss\n",
      "654        honest_pepsi\n",
      "469      MirrorFootball\n",
      "Name: user, dtype: object\n"
     ]
    }
   ],
   "source": [
    "# Top-20 users producing the most retweeted content.\n",
    "print(\"Users producing the most retweeted content\")\n",
    "print(df_tweets.sort_values(by='retweets', ascending=False).head(20)['user'])"
   ]
  },
  {
   "cell_type": "markdown",
   "metadata": {},
   "source": [
    "Club fan accounts have the most retweeted content, showing that the Super League have a potentially large fan base to utilize, they should keep their supporters updated, as some of the surprise around the announcement of the Super League might have been part of the reason for the strong backlash."
   ]
  },
  {
   "cell_type": "markdown",
   "metadata": {},
   "source": [
    "### Tweet Focus Words"
   ]
  },
  {
   "cell_type": "markdown",
   "metadata": {},
   "source": [
    "Looking at what people are tweeting about can help both understand what is popular, but also what message is not coming across."
   ]
  },
  {
   "cell_type": "code",
   "execution_count": 84,
   "metadata": {},
   "outputs": [
    {
     "name": "stdout",
     "output_type": "stream",
     "text": [
      "\n",
      "Content keywords for each brand\n"
     ]
    },
    {
     "data": {
      "image/png": "[encoded data removed]",
      "text/plain": [
       "<Figure size 432x288 with 1 Axes>"
      ]
     },
     "metadata": {
      "needs_background": "light"
     },
     "output_type": "display_data"
    },
    {
     "name": "stdout",
     "output_type": "stream",
     "text": [
      "                count\n",
      "keyword              \n",
      "super league     2074\n",
      "european super    456\n",
      "club              366\n",
      "fan               208\n",
      "real madrid       181\n",
      "team              162\n",
      "uefa              139\n",
      "money             129\n",
      "think             123\n",
      "football          113\n",
      "AxesSubplot(0.125,0.125;0.775x0.755)\n"
     ]
    },
    {
     "data": {
      "image/png": "[encoded data removed]",
      "text/plain": [
       "<Figure size 432x288 with 1 Axes>"
      ]
     },
     "metadata": {
      "needs_background": "light"
     },
     "output_type": "display_data"
    }
   ],
   "source": [
    "def parties_all_text(b):\n",
    "    # https://stackoverflow.com/a/51871650\n",
    "    return ' '.join(df_tweets[df_tweets['text_clean'].str.contains(b)]['text_clean'])\n",
    "\n",
    "print(\"Content keywords for tweets about the Super League\")\n",
    "b = 'super league'\n",
    "wc = WordCloud(width=1200, height=800, max_font_size=110, collocations=False).generate(parties_all_text(b))\n",
    "plt.axis(\"off\")\n",
    "plt.imshow(wc, interpolation=\"bilinear\")\n",
    "plt.show()\n",
    "\n",
    "kwords_super_league = WordCloud().process_text(parties_all_text(b))\n",
    "df_kwords_super_league = pd.DataFrame(list(kwords_super_league.items()), columns=['keyword', 'count']).set_index('keyword')\n",
    "print(df_kwords_super_league.sort_values(by = \"count\", ascending=False).head(10))\n",
    "print(df_kwords_super_league.sort_values(by = \"count\", ascending=False).head(10).plot.bar())"
   ]
  },
  {
   "cell_type": "markdown",
   "metadata": {},
   "source": [
    "Looking at the talking points for the Super League, we can see that the financial aspects are popular, fans care about the financial wellbeing of their clubs. Also what is interesting is that the debate is no longer about relegation, or the lack of relegation, as the Super League clubs have amended this. Unfortunately the same goes for no focus on corruption by UEFA or Suspected Qatar influence on the clubs that did not join the Super League (Hanna, 2021)."
   ]
  },
  {
   "cell_type": "markdown",
   "metadata": {},
   "source": [
    "## Recommended steps "
   ]
  },
  {
   "cell_type": "markdown",
   "metadata": {},
   "source": [
    "The European Super League should take the following steps:\n",
    "* Promote their financial need for the new system\n",
    "* Keep pushing the same reason behind the change\n",
    "* Be open about updates, keep the fans in the loop\n",
    "* Support Investigations into the negative sides of UEFA and the opposition\n",
    "* Wait until the right moment to relaunch, the need for the clubs to launch was present, but not the negative news about the opposition\n",
    "* Design and promote a new relegation system\n",
    "* Reaffirm the moral high ground, utilize the legal victories\n",
    "* The PR battle was won online, and mainly through soccer twitter, the protest was just a result of this. The Super League needs a much stronger Social Media campaign ahead of their relaunch"
   ]
  },
  {
   "cell_type": "markdown",
   "metadata": {},
   "source": [
    "# References"
   ]
  },
  {
   "cell_type": "markdown",
   "metadata": {},
   "source": [
    "Hanna, M. (April 26. 2021). The Role of Gulf Money in the European Super League’s ‘Own Goal’. WPR. URL: https://www.worldpoliticsreview.com/trend-lines/29603/the-role-of-gulf-money-in-the-european-super-league-s-own-goal\n",
    "<br>\n",
    "<br>\n",
    "Jahns, M. (April 8, 2021). Top 10: Europe's Most Popular Football Clubs on Instagram, Facebook, Twitter and TikTok. Ispo. URL: https://www.ispo.com/en/markets/top-10-europes-most-popular-football-clubs-instagram-facebook-twitter-and-tiktok\n",
    "<br>\n",
    "<br>\n",
    "Marsden, S. & Llorens, M (July 30, 2021). Barcelona, Real Madrid, Juventus praise court's Super League ruling over UEFA. ESPN. URL: https://www.espn.com/soccer/uefa-champions-league/story/4442466/barcelonareal-madridjuventus-praise-courts-super-league-ruling-over-uefa\n",
    "<br>\n",
    "<br>\n",
    "Melnæs, H. & Ødegård, P. (September 19, 2017). The Aleksander Čeferin Show. Josimar. URL: https://www.josimar.no/artikler/the-aleksander-ceferin-show/4241/\n",
    "<br>\n",
    "<br>\n",
    "Reuters Staff (July 30, 2021). Soccer-Super League trio to carry on with breakaway project after court decision. Reuters. URL: https://www.reuters.com/article/uk-soccer-superleague-idUKKBN2F02FB\n",
    "<br>\n",
    "<br>\n",
    "Twitter. (2021). Use Cases, Tutorials, & Documentation | Twitter Developer Platform. Twitter. URL: https://developer.twitter.com/en"
   ]
  }
 ],
 "metadata": {
  "kernelspec": {
   "display_name": "Python 3",
   "language": "python",
   "name": "python3"
  },
  "language_info": {
   "codemirror_mode": {
    "name": "ipython",
    "version": 3
   },
   "file_extension": ".py",
   "mimetype": "text/x-python",
   "name": "python",
   "nbconvert_exporter": "python",
   "pygments_lexer": "ipython3",
   "version": "3.8.8"
  },
  "toc": {
   "base_numbering": 1,
   "nav_menu": {},
   "number_sections": true,
   "sideBar": true,
   "skip_h1_title": false,
   "title_cell": "Table of Contents",
   "title_sidebar": "Contents",
   "toc_cell": false,
   "toc_position": {},
   "toc_section_display": true,
   "toc_window_display": false
  },
  "varInspector": {
   "cols": {
    "lenName": 16,
    "lenType": 16,
    "lenVar": 40
   },
   "kernels_config": {
    "python": {
     "delete_cmd_postfix": "",
     "delete_cmd_prefix": "del ",
     "library": "var_list.py",
     "varRefreshCmd": "print(var_dic_list())"
    },
    "r": {
     "delete_cmd_postfix": ") ",
     "delete_cmd_prefix": "rm(",
     "library": "var_list.r",
     "varRefreshCmd": "cat(var_dic_list()) "
    }
   },
   "types_to_exclude": [
    "module",
    "function",
    "builtin_function_or_method",
    "instance",
    "_Feature"
   ],
   "window_display": false
  }
 },
 "nbformat": 4,
 "nbformat_minor": 4
}
